{
 "cells": [
  {
   "attachments": {},
   "cell_type": "markdown",
   "metadata": {},
   "source": [
    "# Table of Contents\n",
    "\n",
    "- [Chapter 1](#Chapter-1)\n",
    "- [Chapter 2](#Chapter-2)\n",
    "- [Chapter 3](#Chapter-3)\n",
    "- [Chapter 4](#Chapter-4)\n",
    "- [Chapter 5](#Chapter-5)\n",
    "- [Chapter 6](#Chapter-6)\n",
    "- [Chapter 7](#Chapter-7)\n",
    "- [Chapter 8](#Chapter-8)\n",
    "- [Chapter 9](#Chapter-9)\n",
    "- [Chapter 10](#Chapter-10)\n",
    "- [Chapter 11](#Chapter-11)\n",
    "- [Chapter 12](#Chapter-12)\n",
    "- [Chapter 13](#Chapter-13)\n",
    "- [Chapter 14](#Chapter-14)\n",
    "- [Chapter 15](#Chapter-15)\n",
    "- [Chapter 16](#Chapter-16)\n",
    "- [Chapter 17](#Chapter-17)\n",
    "- [Chapter 18](#Chapter-18)\n",
    "- [Chapter 19](#Chapter-19)\n"
   ]
  },
  {
   "attachments": {},
   "cell_type": "markdown",
   "metadata": {},
   "source": [
    "# Chapter-1"
   ]
  },
  {
   "attachments": {},
   "cell_type": "markdown",
   "metadata": {},
   "source": [
    "### Exercise 1-1"
   ]
  },
  {
   "attachments": {},
   "cell_type": "markdown",
   "metadata": {},
   "source": [
    "1. In a print statement, what happens if you leave out one of the parentheses, or both?"
   ]
  },
  {
   "cell_type": "code",
   "execution_count": null,
   "metadata": {
    "tags": []
   },
   "outputs": [],
   "source": [
    "print(\"Hello, world!\""
   ]
  },
  {
   "cell_type": "code",
   "execution_count": null,
   "metadata": {},
   "outputs": [
    {
     "ename": "SyntaxError",
     "evalue": "unmatched ')' (1572012483.py, line 1)",
     "output_type": "error",
     "traceback": [
      "\u001b[1;36m  Cell \u001b[1;32mIn[6], line 1\u001b[1;36m\u001b[0m\n\u001b[1;33m    print\"Hello, world!\")\u001b[0m\n\u001b[1;37m                        ^\u001b[0m\n\u001b[1;31mSyntaxError\u001b[0m\u001b[1;31m:\u001b[0m unmatched ')'\n"
     ]
    }
   ],
   "source": [
    "print\"Hello, world!\")"
   ]
  },
  {
   "cell_type": "code",
   "execution_count": null,
   "metadata": {},
   "outputs": [
    {
     "ename": "SyntaxError",
     "evalue": "Missing parentheses in call to 'print'. Did you mean print(...)? (2798470598.py, line 1)",
     "output_type": "error",
     "traceback": [
      "\u001b[1;36m  Cell \u001b[1;32mIn[7], line 1\u001b[1;36m\u001b[0m\n\u001b[1;33m    print\"Hello, world!\"\u001b[0m\n\u001b[1;37m    ^\u001b[0m\n\u001b[1;31mSyntaxError\u001b[0m\u001b[1;31m:\u001b[0m Missing parentheses in call to 'print'. Did you mean print(...)?\n"
     ]
    }
   ],
   "source": [
    "print\"Hello, world!\""
   ]
  },
  {
   "attachments": {},
   "cell_type": "markdown",
   "metadata": {},
   "source": [
    "2. If you are trying to print a string, what happens if you leave out one of the quota‐tion marks, or both?"
   ]
  },
  {
   "cell_type": "code",
   "execution_count": null,
   "metadata": {},
   "outputs": [
    {
     "ename": "SyntaxError",
     "evalue": "unterminated string literal (detected at line 1) (3760663132.py, line 1)",
     "output_type": "error",
     "traceback": [
      "\u001b[1;36m  Cell \u001b[1;32mIn[2], line 1\u001b[1;36m\u001b[0m\n\u001b[1;33m    print(\"Hello, world!)\u001b[0m\n\u001b[1;37m          ^\u001b[0m\n\u001b[1;31mSyntaxError\u001b[0m\u001b[1;31m:\u001b[0m unterminated string literal (detected at line 1)\n"
     ]
    }
   ],
   "source": [
    "print(\"Hello, world!)"
   ]
  },
  {
   "cell_type": "code",
   "execution_count": null,
   "metadata": {},
   "outputs": [
    {
     "ename": "SyntaxError",
     "evalue": "unterminated string literal (detected at line 1) (3507946620.py, line 1)",
     "output_type": "error",
     "traceback": [
      "\u001b[1;36m  Cell \u001b[1;32mIn[3], line 1\u001b[1;36m\u001b[0m\n\u001b[1;33m    print(Hello, world!\")\u001b[0m\n\u001b[1;37m                       ^\u001b[0m\n\u001b[1;31mSyntaxError\u001b[0m\u001b[1;31m:\u001b[0m unterminated string literal (detected at line 1)\n"
     ]
    }
   ],
   "source": [
    "print(Hello, world!\")"
   ]
  },
  {
   "cell_type": "code",
   "execution_count": null,
   "metadata": {},
   "outputs": [
    {
     "ename": "SyntaxError",
     "evalue": "invalid syntax (4206259929.py, line 1)",
     "output_type": "error",
     "traceback": [
      "\u001b[1;36m  Cell \u001b[1;32mIn[4], line 1\u001b[1;36m\u001b[0m\n\u001b[1;33m    print(Hello, world!)\u001b[0m\n\u001b[1;37m                      ^\u001b[0m\n\u001b[1;31mSyntaxError\u001b[0m\u001b[1;31m:\u001b[0m invalid syntax\n"
     ]
    }
   ],
   "source": [
    "print(Hello, world!)"
   ]
  },
  {
   "attachments": {},
   "cell_type": "markdown",
   "metadata": {},
   "source": [
    "3. You can use a minus sign to make a negative number like -2. What happens if you put a plus sign before a number? What about 2++2?"
   ]
  },
  {
   "cell_type": "code",
   "execution_count": null,
   "metadata": {},
   "outputs": [
    {
     "data": {
      "text/plain": [
       "2"
      ]
     },
     "execution_count": 8,
     "metadata": {},
     "output_type": "execute_result"
    }
   ],
   "source": [
    "+2"
   ]
  },
  {
   "cell_type": "code",
   "execution_count": 1,
   "metadata": {},
   "outputs": [
    {
     "data": {
      "text/plain": [
       "4"
      ]
     },
     "execution_count": 1,
     "metadata": {},
     "output_type": "execute_result"
    }
   ],
   "source": [
    "+2+2"
   ]
  },
  {
   "cell_type": "code",
   "execution_count": null,
   "metadata": {},
   "outputs": [
    {
     "data": {
      "text/plain": [
       "4"
      ]
     },
     "execution_count": 10,
     "metadata": {},
     "output_type": "execute_result"
    }
   ],
   "source": [
    "2++2"
   ]
  },
  {
   "attachments": {},
   "cell_type": "markdown",
   "metadata": {},
   "source": [
    "4. In math notation, leading zeros are okay, as in 02. What happens if you try this in Python?"
   ]
  },
  {
   "cell_type": "code",
   "execution_count": null,
   "metadata": {},
   "outputs": [
    {
     "ename": "SyntaxError",
     "evalue": "leading zeros in decimal integer literals are not permitted; use an 0o prefix for octal integers (2411615945.py, line 1)",
     "output_type": "error",
     "traceback": [
      "\u001b[1;36m  Cell \u001b[1;32mIn[11], line 1\u001b[1;36m\u001b[0m\n\u001b[1;33m    02\u001b[0m\n\u001b[1;37m    ^\u001b[0m\n\u001b[1;31mSyntaxError\u001b[0m\u001b[1;31m:\u001b[0m leading zeros in decimal integer literals are not permitted; use an 0o prefix for octal integers\n"
     ]
    }
   ],
   "source": [
    "02"
   ]
  },
  {
   "attachments": {},
   "cell_type": "markdown",
   "metadata": {},
   "source": [
    "5. What happens if you have two values with no operator between them?"
   ]
  },
  {
   "cell_type": "code",
   "execution_count": 1,
   "metadata": {},
   "outputs": [
    {
     "ename": "SyntaxError",
     "evalue": "invalid syntax (695001889.py, line 1)",
     "output_type": "error",
     "traceback": [
      "\u001b[1;36m  Cell \u001b[1;32mIn[1], line 1\u001b[1;36m\u001b[0m\n\u001b[1;33m    2 3\u001b[0m\n\u001b[1;37m      ^\u001b[0m\n\u001b[1;31mSyntaxError\u001b[0m\u001b[1;31m:\u001b[0m invalid syntax\n"
     ]
    }
   ],
   "source": [
    "2 3"
   ]
  },
  {
   "attachments": {},
   "cell_type": "markdown",
   "metadata": {},
   "source": [
    "### Exercise 1-2"
   ]
  },
  {
   "attachments": {},
   "cell_type": "markdown",
   "metadata": {},
   "source": [
    "1. How many seconds are there in 42 minutes 42 seconds?"
   ]
  },
  {
   "cell_type": "code",
   "execution_count": null,
   "metadata": {},
   "outputs": [
    {
     "data": {
      "text/plain": [
       "2562"
      ]
     },
     "execution_count": 1,
     "metadata": {},
     "output_type": "execute_result"
    }
   ],
   "source": [
    "42*60+42"
   ]
  },
  {
   "cell_type": "markdown",
   "metadata": {},
   "source": []
  },
  {
   "attachments": {},
   "cell_type": "markdown",
   "metadata": {},
   "source": [
    "2. How many miles are there in 10 kilometers? Hint: there are 1.61 kilometers in a mile."
   ]
  },
  {
   "cell_type": "code",
   "execution_count": 2,
   "metadata": {},
   "outputs": [
    {
     "data": {
      "text/plain": [
       "6.211180124223602"
      ]
     },
     "execution_count": 2,
     "metadata": {},
     "output_type": "execute_result"
    }
   ],
   "source": [
    "10*1/1.61"
   ]
  },
  {
   "attachments": {},
   "cell_type": "markdown",
   "metadata": {},
   "source": [
    "3. If you run a 10 kilometer race in 42 minutes 42 seconds, what is your average pace (time per mile in minutes and seconds)? What is your average speed in miles per hour?"
   ]
  },
  {
   "cell_type": "code",
   "execution_count": null,
   "metadata": {},
   "outputs": [
    {
     "data": {
      "text/plain": [
       "6.874700000000001"
      ]
     },
     "execution_count": 11,
     "metadata": {},
     "output_type": "execute_result"
    }
   ],
   "source": [
    "2562/6.211180124223602/60"
   ]
  },
  {
   "cell_type": "code",
   "execution_count": null,
   "metadata": {},
   "outputs": [
    {
     "data": {
      "text/plain": [
       "8.727653570337614"
      ]
     },
     "execution_count": 10,
     "metadata": {},
     "output_type": "execute_result"
    }
   ],
   "source": [
    "60/6.874700000000001"
   ]
  },
  {
   "cell_type": "markdown",
   "metadata": {},
   "source": [
    "# Chapter 2"
   ]
  },
  {
   "attachments": {},
   "cell_type": "markdown",
   "metadata": {},
   "source": [
    "### Exercise 2-1"
   ]
  },
  {
   "attachments": {},
   "cell_type": "markdown",
   "metadata": {},
   "source": [
    "• We’ve seen that n = 42 is legal. What about 42 = n?"
   ]
  },
  {
   "cell_type": "code",
   "execution_count": 6,
   "metadata": {},
   "outputs": [
    {
     "ename": "SyntaxError",
     "evalue": "cannot assign to literal here. Maybe you meant '==' instead of '='? (1956984606.py, line 1)",
     "output_type": "error",
     "traceback": [
      "\u001b[1;36m  Cell \u001b[1;32mIn[6], line 1\u001b[1;36m\u001b[0m\n\u001b[1;33m    42=n\u001b[0m\n\u001b[1;37m    ^\u001b[0m\n\u001b[1;31mSyntaxError\u001b[0m\u001b[1;31m:\u001b[0m cannot assign to literal here. Maybe you meant '==' instead of '='?\n"
     ]
    }
   ],
   "source": [
    "42=n"
   ]
  },
  {
   "attachments": {},
   "cell_type": "markdown",
   "metadata": {},
   "source": [
    "• How about x = y = 1?"
   ]
  },
  {
   "cell_type": "code",
   "execution_count": 8,
   "metadata": {},
   "outputs": [
    {
     "name": "stdout",
     "output_type": "stream",
     "text": [
      "1\n",
      "1\n"
     ]
    }
   ],
   "source": [
    "x = y = 1\n",
    "print(x)\n",
    "print(y)"
   ]
  },
  {
   "attachments": {},
   "cell_type": "markdown",
   "metadata": {},
   "source": [
    "• In some languages every statement ends with a semicolon, ;. What happens if you put a semicolon at the end of a Python statement?"
   ]
  },
  {
   "cell_type": "code",
   "execution_count": null,
   "metadata": {},
   "outputs": [
    {
     "name": "stdout",
     "output_type": "stream",
     "text": [
      "42\n"
     ]
    }
   ],
   "source": [
    "n = 42;\n",
    "print(n);"
   ]
  },
  {
   "attachments": {},
   "cell_type": "markdown",
   "metadata": {},
   "source": [
    "• What if you put a period at the end of a statement?"
   ]
  },
  {
   "cell_type": "code",
   "execution_count": null,
   "metadata": {},
   "outputs": [
    {
     "ename": "SyntaxError",
     "evalue": "invalid syntax (1391159283.py, line 2)",
     "output_type": "error",
     "traceback": [
      "\u001b[1;36m  Cell \u001b[1;32mIn[34], line 2\u001b[1;36m\u001b[0m\n\u001b[1;33m    print(n).\u001b[0m\n\u001b[1;37m             ^\u001b[0m\n\u001b[1;31mSyntaxError\u001b[0m\u001b[1;31m:\u001b[0m invalid syntax\n"
     ]
    }
   ],
   "source": [
    "n = 42.\n",
    "print(n)."
   ]
  },
  {
   "attachments": {},
   "cell_type": "markdown",
   "metadata": {},
   "source": [
    "• In math notation you can multiply x and y like this: xy. What happens if you try\n",
    "that in Python?"
   ]
  },
  {
   "cell_type": "code",
   "execution_count": null,
   "metadata": {},
   "outputs": [
    {
     "ename": "NameError",
     "evalue": "name 'xy' is not defined",
     "output_type": "error",
     "traceback": [
      "\u001b[1;31m---------------------------------------------------------------------------\u001b[0m",
      "\u001b[1;31mNameError\u001b[0m                                 Traceback (most recent call last)",
      "Cell \u001b[1;32mIn[35], line 3\u001b[0m\n\u001b[0;32m      1\u001b[0m x \u001b[39m=\u001b[39m \u001b[39m2\u001b[39m\n\u001b[0;32m      2\u001b[0m y \u001b[39m=\u001b[39m \u001b[39m3\u001b[39m\n\u001b[1;32m----> 3\u001b[0m xy\n",
      "\u001b[1;31mNameError\u001b[0m: name 'xy' is not defined"
     ]
    }
   ],
   "source": [
    "x = 2\n",
    "y = 3\n",
    "xy"
   ]
  },
  {
   "attachments": {},
   "cell_type": "markdown",
   "metadata": {},
   "source": [
    "### Exercise 2-2"
   ]
  },
  {
   "attachments": {},
   "cell_type": "markdown",
   "metadata": {},
   "source": [
    "1. The volume of a sphere with radius r is 4πr3/3. What is the volume of a sphere with\n",
    "radius 5?"
   ]
  },
  {
   "cell_type": "code",
   "execution_count": 9,
   "metadata": {},
   "outputs": [
    {
     "data": {
      "text/plain": [
       "523.5987755982989"
      ]
     },
     "execution_count": 9,
     "metadata": {},
     "output_type": "execute_result"
    }
   ],
   "source": [
    "# input variables\n",
    "pi = 3.1415926535897932\n",
    "radius = 5\n",
    "\n",
    "# formula for volume of a sphere\n",
    "volume = 4/3*pi*radius**3\n",
    "\n",
    "volume"
   ]
  },
  {
   "attachments": {},
   "cell_type": "markdown",
   "metadata": {},
   "source": [
    "2. Suppose the cover price of a book is $24.95, but bookstores get a 40% discount.\n",
    "Shipping costs $3 for the first copy and 75 cents for each additional copy. What is\n",
    "the total wholesale cost for 60 copies?"
   ]
  },
  {
   "cell_type": "code",
   "execution_count": null,
   "metadata": {},
   "outputs": [
    {
     "data": {
      "text/plain": [
       "945.4499999999999"
      ]
     },
     "execution_count": 2,
     "metadata": {},
     "output_type": "execute_result"
    }
   ],
   "source": [
    "# input variables\n",
    "cover_price = 24.95\n",
    "bookstore_discount = 0.4\n",
    "shipping_cost_first = 3\n",
    "shipping_cost_add = 0.75\n",
    "number_copies = 60\n",
    "\n",
    "# formula for wholesale cost\n",
    "wholesale_cost = cover_price*number_copies*(1-bookstore_discount)+3+0.75*(number_copies-1)\n",
    "\n",
    "wholesale_cost"
   ]
  },
  {
   "attachments": {},
   "cell_type": "markdown",
   "metadata": {},
   "source": [
    "3. If I leave my house at 6:52 am and run 1 mile at an easy pace (8:15 per mile), then\n",
    "3 miles at tempo (7:12 per mile) and 1 mile at an easy pace again, what time do I\n",
    "get home for breakfast?"
   ]
  },
  {
   "cell_type": "code",
   "execution_count": 13,
   "metadata": {},
   "outputs": [
    {
     "name": "stdout",
     "output_type": "stream",
     "text": [
      "Hours:\n"
     ]
    },
    {
     "data": {
      "text/plain": [
       "7.501666666666667"
      ]
     },
     "execution_count": 13,
     "metadata": {},
     "output_type": "execute_result"
    }
   ],
   "source": [
    "# input variables\n",
    "leave_time = (6*60+52)*60\n",
    "easy_pace = (8*60+15)*2\n",
    "tempo = (7*60+12)*3\n",
    "\n",
    "# formula for get home time in hours\n",
    "get_home_time = (leave_time + easy_pace + tempo)/(60*60)\n",
    "\n",
    "print(\"Hours:\")\n",
    "get_home_time"
   ]
  },
  {
   "attachments": {},
   "cell_type": "markdown",
   "metadata": {},
   "source": [
    "# Chapter 3"
   ]
  },
  {
   "attachments": {},
   "cell_type": "markdown",
   "metadata": {},
   "source": [
    "### Exercise 3-1"
   ]
  },
  {
   "attachments": {},
   "cell_type": "markdown",
   "metadata": {},
   "source": [
    "Write a function named right_justify that takes a string named s as a parameter and prints the string with enough leading spaces so that the last letter of the string is in column 70 of the display.\n",
    "\n",
    "Hint: Use string concatenation and repetition. Also, Python provides a built-in function called len that returns the length of a string, so the value of len('monty') is 5."
   ]
  },
  {
   "cell_type": "code",
   "execution_count": null,
   "metadata": {},
   "outputs": [
    {
     "name": "stdout",
     "output_type": "stream",
     "text": [
      "                                                                 monty\n"
     ]
    }
   ],
   "source": [
    "def right_justify(s):\n",
    "    print(\" \" * (70 - len(s)) + s)\n",
    "    \n",
    "right_justify('monty')"
   ]
  },
  {
   "attachments": {},
   "cell_type": "markdown",
   "metadata": {},
   "source": [
    "### Exercise 3-2"
   ]
  },
  {
   "attachments": {},
   "cell_type": "markdown",
   "metadata": {},
   "source": [
    "A function object is a value you can assign to a variable or pass as an argument. For\n",
    "example, do_twice is a function that takes a function object as an argument and calls\n",
    "it twice:"
   ]
  },
  {
   "cell_type": "code",
   "execution_count": null,
   "metadata": {},
   "outputs": [],
   "source": [
    "def do_twice(f):\n",
    "    f()\n",
    "    f()"
   ]
  },
  {
   "attachments": {},
   "cell_type": "markdown",
   "metadata": {},
   "source": [
    "Here’s an example that uses do_twice to call a function named print_spam twice:"
   ]
  },
  {
   "cell_type": "code",
   "execution_count": null,
   "metadata": {},
   "outputs": [
    {
     "name": "stdout",
     "output_type": "stream",
     "text": [
      "spam\n",
      "spam\n"
     ]
    }
   ],
   "source": [
    "def print_spam():\n",
    "    print('spam')\n",
    "    \n",
    "do_twice(print_spam)"
   ]
  },
  {
   "attachments": {},
   "cell_type": "markdown",
   "metadata": {},
   "source": [
    "1. Type this example into a cell and test it.\n",
    "2. Modify do_twice so that it takes two arguments, a function object and a value,\n",
    "and calls the function twice, passing the value as an argument.\n",
    "3. Copy the definition of print_twice from earlier in this chapter to your script.\n",
    "4. Use the modified version of do_twice to call print_twice twice, passing 'spam'\n",
    "as an argument.\n"
   ]
  },
  {
   "cell_type": "code",
   "execution_count": null,
   "metadata": {},
   "outputs": [
    {
     "name": "stdout",
     "output_type": "stream",
     "text": [
      "Spam\n",
      "Spam\n"
     ]
    }
   ],
   "source": [
    "def do_twice(f, v):\n",
    "    f(v)\n",
    "    f(v)\n",
    "\n",
    "\n",
    "def print_twice(bruce):\n",
    "    print(bruce)\n",
    "\n",
    "\n",
    "do_twice(print_twice, \"Spam\")"
   ]
  },
  {
   "attachments": {},
   "cell_type": "markdown",
   "metadata": {},
   "source": [
    "5. Define a new function called do_four that takes a function object and a value and\n",
    "calls the function four times, passing the value as a parameter. There should be\n",
    "only two statements in the body of this function, not four."
   ]
  },
  {
   "cell_type": "code",
   "execution_count": null,
   "metadata": {},
   "outputs": [
    {
     "name": "stdout",
     "output_type": "stream",
     "text": [
      "Spam\n",
      "Spam\n",
      "Spam\n",
      "Spam\n"
     ]
    }
   ],
   "source": [
    "def do_four(f, v):\n",
    "    do_twice(f, v)\n",
    "    do_twice(f, v)\n",
    "\n",
    "\n",
    "do_four(print_twice, 'Spam')"
   ]
  },
  {
   "attachments": {},
   "cell_type": "markdown",
   "metadata": {},
   "source": [
    "### Exercise 3-3"
   ]
  },
  {
   "attachments": {},
   "cell_type": "markdown",
   "metadata": {},
   "source": [
    "Note: This exercise should be done using only the statements and other features we\n",
    "have learned so far.\n",
    "1. Write a function that draws a grid like the following:\n",
    "Hint: to print more than one value on a line, you can print a comma-separated\n",
    "sequence of values:"
   ]
  },
  {
   "cell_type": "code",
   "execution_count": null,
   "metadata": {},
   "outputs": [
    {
     "name": "stdout",
     "output_type": "stream",
     "text": [
      "+ -\n"
     ]
    }
   ],
   "source": [
    "\"\"\"\n",
    "+ - - - - + - - - - +\n",
    "|         |         |\n",
    "|         |         |\n",
    "|         |         |\n",
    "+ - - - - + - - - - +\n",
    "|         |         |\n",
    "|         |         |\n",
    "|         |         |\n",
    "|         |         |\n",
    "+ - - - - + - - - - +\n",
    "\"\"\"\n",
    "\n",
    "print('+', '-')"
   ]
  },
  {
   "attachments": {},
   "cell_type": "markdown",
   "metadata": {},
   "source": [
    "By default, print advances to the next line, but you can override that behavior\n",
    "and put a space at the end, like this:"
   ]
  },
  {
   "cell_type": "code",
   "execution_count": null,
   "metadata": {},
   "outputs": [
    {
     "name": "stdout",
     "output_type": "stream",
     "text": [
      "+ -\n"
     ]
    }
   ],
   "source": [
    "print('+', end=' ')\n",
    "print('-')"
   ]
  },
  {
   "cell_type": "markdown",
   "metadata": {},
   "source": [
    "The output of these statements is '+ -'.\n",
    "A print statement with no argument ends the current line and goes to the next\n",
    "line."
   ]
  },
  {
   "cell_type": "code",
   "execution_count": null,
   "metadata": {},
   "outputs": [
    {
     "name": "stdout",
     "output_type": "stream",
     "text": [
      "+ -  -  -  - + -  -  -  - +\n",
      "|            |            |\n",
      "|            |            |\n",
      "|            |            |\n",
      "|            |            |\n",
      "+ -  -  -  - + -  -  -  - +\n",
      "|            |            |\n",
      "|            |            |\n",
      "|            |            |\n",
      "|            |            |\n",
      "+ -  -  -  - + -  -  -  - +\n"
     ]
    }
   ],
   "source": [
    "def draw_subgrid(none):\n",
    "    row = ('+' + ' - ' * 4) * 2 + '+'\n",
    "    column = ('|' + ' ' * 12) * 2 + '|'\n",
    "    print(row)\n",
    "    do_four(print, column)\n",
    "\n",
    "\n",
    "def draw_grid():\n",
    "    row = ('+' + ' - ' * 4) * 2 + '+'\n",
    "    do_twice(draw_subgrid, None)\n",
    "    print(row)\n",
    "\n",
    "\n",
    "draw_grid()"
   ]
  },
  {
   "attachments": {},
   "cell_type": "markdown",
   "metadata": {},
   "source": [
    "2. Write a function that draws a similar grid with four rows and four columns."
   ]
  },
  {
   "cell_type": "code",
   "execution_count": null,
   "metadata": {},
   "outputs": [
    {
     "name": "stdout",
     "output_type": "stream",
     "text": [
      "+ -  -  -  - + -  -  -  - + -  -  -  - + -  -  -  - +\n",
      "|            |            |            |            |\n",
      "|            |            |            |            |\n",
      "|            |            |            |            |\n",
      "|            |            |            |            |\n",
      "+ -  -  -  - + -  -  -  - + -  -  -  - + -  -  -  - +\n",
      "|            |            |            |            |\n",
      "|            |            |            |            |\n",
      "|            |            |            |            |\n",
      "|            |            |            |            |\n",
      "+ -  -  -  - + -  -  -  - + -  -  -  - + -  -  -  - +\n",
      "|            |            |            |            |\n",
      "|            |            |            |            |\n",
      "|            |            |            |            |\n",
      "|            |            |            |            |\n",
      "+ -  -  -  - + -  -  -  - + -  -  -  - + -  -  -  - +\n",
      "|            |            |            |            |\n",
      "|            |            |            |            |\n",
      "|            |            |            |            |\n",
      "|            |            |            |            |\n",
      "+ -  -  -  - + -  -  -  - + -  -  -  - + -  -  -  - +\n"
     ]
    }
   ],
   "source": [
    "def draw_subgrid(none):\n",
    "    row = ('+' + ' - ' * 4) * 4 + '+'\n",
    "    column = ('|' + ' ' * 12) * 4 + '|'\n",
    "    print(row)\n",
    "    do_four(print, column)\n",
    "\n",
    "def draw_grid():\n",
    "    row = ('+' + ' - ' * 4) * 4 + '+'\n",
    "    do_twice(draw_subgrid, None)\n",
    "    do_twice(draw_subgrid, None)\n",
    "    print(row)\n",
    "\n",
    "\n",
    "draw_grid()"
   ]
  },
  {
   "attachments": {},
   "cell_type": "markdown",
   "metadata": {},
   "source": [
    "# Chapter 4"
   ]
  },
  {
   "attachments": {},
   "cell_type": "markdown",
   "metadata": {},
   "source": [
    "### Exercise 4-1"
   ]
  },
  {
   "attachments": {},
   "cell_type": "markdown",
   "metadata": {},
   "source": [
    "Download the code in this chapter from http://thinkpython2.com/code/polygon.py.\n",
    "1. Draw a stack diagram that shows the state of the program while executing circle(bob, radius). You can do the arithmetic by hand or add print statements\n",
    "to the code."
   ]
  },
  {
   "cell_type": "code",
   "execution_count": 2,
   "metadata": {},
   "outputs": [],
   "source": [
    "import math\n",
    "import turtle\n",
    "\n",
    "\n",
    "def square(t, length):\n",
    "    for i in range(4):\n",
    "        t.fd(length)\n",
    "        t.lt(90)\n",
    "\n",
    "\n",
    "def polyline(t, n, length, angle):\n",
    "    for i in range(n):\n",
    "        t.fd(length)\n",
    "        t.lt(angle)\n",
    "\n",
    "\n",
    "def polygon(t, n, length):\n",
    "    angle = 360.0 / n\n",
    "    polyline(t, n, length, angle)\n",
    "\n",
    "\n",
    "def arc(t, r, angle):\n",
    "    arc_length = 2 * math.pi * r * angle / 360\n",
    "    n = int(arc_length / 3) + 1\n",
    "    step_length = arc_length / n\n",
    "    step_angle = float(angle) / n\n",
    "    polyline(t, n, step_length, step_angle)\n",
    "\n",
    "\n",
    "def circle(t, r):\n",
    "    arc(t, r, 360)\n",
    "\n",
    "\n",
    "bob = turtle.Turtle()\n",
    "radius = 5\n",
    "circle(bob, radius)"
   ]
  },
  {
   "attachments": {},
   "cell_type": "markdown",
   "metadata": {},
   "source": [
    "|-----------|\n",
    "|   angle   |\n",
    "|-----------|\n",
    "|   length  |\n",
    "|-----------|\n",
    "|     n     |\n",
    "|-----------|\n",
    "|     t     |\n",
    "|-----------|\n",
    "|  polygon  |\n",
    "|-----------|\n",
    "|   angle   |\n",
    "|-----------|\n",
    "|     r     |\n",
    "|-----------|\n",
    "|     t     |\n",
    "|-----------|\n",
    "|    arc    |\n",
    "|-----------|\n",
    "|   radius  |\n",
    "|-----------|\n",
    "|    bob    |\n",
    "|-----------|\n",
    "|   circle  |\n",
    "|-----------|"
   ]
  },
  {
   "attachments": {},
   "cell_type": "markdown",
   "metadata": {},
   "source": [
    "2. The version of arc in “Refactoring” on page 41 is not very accurate because the\n",
    "linear approximation of the circle is always outside the true circle. As a result, the\n",
    "Turtle ends up a few pixels away from the correct destination. My solution shows\n",
    "a way to reduce the effect of this error. Read the code and see if it makes sense to\n",
    "you. If you draw a diagram, you might see how it works.\n",
    "\n",
    "Overall, the code seems to make sense and provides a simple way to draw arcs with a turtle."
   ]
  },
  {
   "attachments": {},
   "cell_type": "markdown",
   "metadata": {},
   "source": [
    "### Exercise 4-2"
   ]
  },
  {
   "attachments": {},
   "cell_type": "markdown",
   "metadata": {},
   "source": [
    "Write an appropriately general set of functions that can draw flowers as in Figure 4-1."
   ]
  },
  {
   "cell_type": "code",
   "execution_count": null,
   "metadata": {},
   "outputs": [
    {
     "ename": "",
     "evalue": "",
     "output_type": "error",
     "traceback": [
      "\u001b[1;31mThe Kernel crashed while executing code in the the current cell or a previous cell. Please review the code in the cell(s) to identify a possible cause of the failure. Click <a href='https://aka.ms/vscodeJupyterKernelCrash'>here</a> for more info. View Jupyter <a href='command:jupyter.viewOutput'>log</a> for further details."
     ]
    }
   ],
   "source": [
    "def petal(t, r, angle):\n",
    "    \"\"\"Draws a petal using two arcs.\n",
    "    t: Turtle\n",
    "    r: radius of the arcs\n",
    "    angle: angle (degrees) that subtends the arcs\n",
    "    \"\"\"\n",
    "    for i in range(2):\n",
    "        arc(t, r, angle)\n",
    "        t.lt(180-angle)\n",
    "\n",
    "\n",
    "def flower(t, n, r, angle):\n",
    "    \"\"\"Draws a flower with n petals.\n",
    "    t: Turtle\n",
    "    n: number of petals\n",
    "    r: radius of the arcs\n",
    "    angle: angle (degrees) that subtends the arcs\n",
    "    \"\"\"\n",
    "    for i in range(n):\n",
    "        petal(t, r, angle)\n",
    "        t.lt(360.0/n)\n",
    "\n",
    "\n",
    "def move(t, length):\n",
    "    \"\"\"Move Turtle (t) forward (length) units without leaving a trail.\n",
    "    Leaves the pen down.\n",
    "    \"\"\"\n",
    "    t.pu()\n",
    "    t.fd(length)\n",
    "    t.pd()\n",
    "\n",
    "\n",
    "move(bob, -100)\n",
    "flower(bob, 7, 60.0, 60.0)\n",
    "\n",
    "move(bob, 100)\n",
    "flower(bob, 10, 40.0, 80.0)\n",
    "\n",
    "move(bob, 100)\n",
    "flower(bob, 20, 140.0, 20.0)"
   ]
  },
  {
   "attachments": {},
   "cell_type": "markdown",
   "metadata": {},
   "source": [
    "### Exercise 4-3"
   ]
  },
  {
   "attachments": {},
   "cell_type": "markdown",
   "metadata": {},
   "source": [
    "Write an appropriately general set of functions that can draw shapes as in Figure 4-2."
   ]
  },
  {
   "cell_type": "code",
   "execution_count": null,
   "metadata": {},
   "outputs": [],
   "source": [
    "def draw_pie(t, n, r):\n",
    "    \"\"\"Draws a pie, then moves into position to the right.\n",
    "    t: Turtle\n",
    "    n: number of segments\n",
    "    r: length of the radial spokes\n",
    "    \"\"\"\n",
    "    polypie(t, n, r)\n",
    "    t.pu()\n",
    "    t.fd(r*2 + 10)\n",
    "    t.pd()\n",
    "\n",
    "\n",
    "def polypie(t, n, r):\n",
    "    \"\"\"Draws a pie divided into radial segments.\n",
    "    t: Turtle\n",
    "    n: number of segments\n",
    "    r: length of the radial spokes\n",
    "    \"\"\"\n",
    "    angle = 360.0 / n\n",
    "    for i in range(n):\n",
    "        isosceles(t, r, angle/2)\n",
    "        t.lt(angle)\n",
    "\n",
    "\n",
    "def isosceles(t, r, angle):\n",
    "    \"\"\"Draws an icosceles triangle.\n",
    "    The turtle starts and ends at the peak, facing the middle of the base.\n",
    "    t: Turtle\n",
    "    r: length of the equal legs\n",
    "    angle: half peak angle in degrees\n",
    "    \"\"\"\n",
    "    y = r * math.sin(angle * math.pi / 180)\n",
    "\n",
    "    t.rt(angle)\n",
    "    t.fd(r)\n",
    "    t.lt(90+angle)\n",
    "    t.fd(2*y)\n",
    "    t.lt(90+angle)\n",
    "    t.fd(r)\n",
    "    t.lt(180-angle)\n",
    "\n",
    "\n",
    "bob.pu()\n",
    "bob.bk(130)\n",
    "bob.pd()\n",
    "\n",
    "size = 40\n",
    "draw_pie(bob, 5, size)\n",
    "draw_pie(bob, 6, size)\n",
    "draw_pie(bob, 7, size)\n",
    "draw_pie(bob, 8, size)\n"
   ]
  },
  {
   "attachments": {},
   "cell_type": "markdown",
   "metadata": {},
   "source": [
    "### Exercise 4-4"
   ]
  },
  {
   "attachments": {},
   "cell_type": "markdown",
   "metadata": {},
   "source": [
    "The letters of the alphabet can be constructed from a moderate number of basic ele‐\n",
    "ments, like vertical and horizontal lines and a few curves. Design an alphabet that can\n",
    "be drawn with a minimal number of basic elements and then write functions that\n",
    "draw the letters.\n",
    "You should write one function for each letter, with names draw_a, draw_b, etc., and\n",
    "put your functions in a file named letters.py. You can download a “turtle type‐\n",
    "writer” from http://thinkpython2.com/code/typewriter.py to help you test your code."
   ]
  },
  {
   "cell_type": "code",
   "execution_count": null,
   "metadata": {},
   "outputs": [],
   "source": [
    "# To-do"
   ]
  },
  {
   "attachments": {},
   "cell_type": "markdown",
   "metadata": {},
   "source": [
    "### Exercise 4-5"
   ]
  },
  {
   "attachments": {},
   "cell_type": "markdown",
   "metadata": {},
   "source": [
    "Read about spirals at http://en.wikipedia.org/wiki/Spiral; then write a program that\n",
    "draws an Archimedian spiral (or one of the other kinds)."
   ]
  },
  {
   "cell_type": "code",
   "execution_count": 3,
   "metadata": {},
   "outputs": [
    {
     "ename": "TclError",
     "evalue": "invalid command name \".!canvas\"",
     "output_type": "error",
     "traceback": [
      "\u001b[1;31m---------------------------------------------------------------------------\u001b[0m",
      "\u001b[1;31mTclError\u001b[0m                                  Traceback (most recent call last)",
      "Cell \u001b[1;32mIn[3], line 20\u001b[0m\n\u001b[0;32m     16\u001b[0m         t\u001b[39m.\u001b[39mlt(dtheta)\n\u001b[0;32m     17\u001b[0m         theta \u001b[39m+\u001b[39m\u001b[39m=\u001b[39m dtheta\n\u001b[1;32m---> 20\u001b[0m draw_spiral(bob, n\u001b[39m=\u001b[39;49m\u001b[39m1000\u001b[39;49m)\n",
      "Cell \u001b[1;32mIn[3], line 13\u001b[0m, in \u001b[0;36mdraw_spiral\u001b[1;34m(t, n, length, a, b)\u001b[0m\n\u001b[0;32m     10\u001b[0m theta \u001b[39m=\u001b[39m \u001b[39m0.0\u001b[39m\n\u001b[0;32m     12\u001b[0m \u001b[39mfor\u001b[39;00m i \u001b[39min\u001b[39;00m \u001b[39mrange\u001b[39m(n):\n\u001b[1;32m---> 13\u001b[0m     t\u001b[39m.\u001b[39;49mfd(length)\n\u001b[0;32m     14\u001b[0m     dtheta \u001b[39m=\u001b[39m \u001b[39m1\u001b[39m \u001b[39m/\u001b[39m (a \u001b[39m+\u001b[39m b \u001b[39m*\u001b[39m theta)\n\u001b[0;32m     16\u001b[0m     t\u001b[39m.\u001b[39mlt(dtheta)\n",
      "File \u001b[1;32mC:\\Program Files\\WindowsApps\\PythonSoftwareFoundation.Python.3.11_3.11.752.0_x64__qbz5n2kfra8p0\\Lib\\turtle.py:1638\u001b[0m, in \u001b[0;36mTNavigator.forward\u001b[1;34m(self, distance)\u001b[0m\n\u001b[0;32m   1617\u001b[0m \u001b[39mdef\u001b[39;00m \u001b[39mforward\u001b[39m(\u001b[39mself\u001b[39m, distance):\n\u001b[0;32m   1618\u001b[0m \u001b[39m    \u001b[39m\u001b[39m\"\"\"Move the turtle forward by the specified distance.\u001b[39;00m\n\u001b[0;32m   1619\u001b[0m \n\u001b[0;32m   1620\u001b[0m \u001b[39m    Aliases: forward | fd\u001b[39;00m\n\u001b[1;32m   (...)\u001b[0m\n\u001b[0;32m   1636\u001b[0m \u001b[39m    (-50.00,0.00)\u001b[39;00m\n\u001b[0;32m   1637\u001b[0m \u001b[39m    \"\"\"\u001b[39;00m\n\u001b[1;32m-> 1638\u001b[0m     \u001b[39mself\u001b[39;49m\u001b[39m.\u001b[39;49m_go(distance)\n",
      "File \u001b[1;32mC:\\Program Files\\WindowsApps\\PythonSoftwareFoundation.Python.3.11_3.11.752.0_x64__qbz5n2kfra8p0\\Lib\\turtle.py:1606\u001b[0m, in \u001b[0;36mTNavigator._go\u001b[1;34m(self, distance)\u001b[0m\n\u001b[0;32m   1604\u001b[0m \u001b[39m\u001b[39m\u001b[39m\"\"\"move turtle forward by specified distance\"\"\"\u001b[39;00m\n\u001b[0;32m   1605\u001b[0m ende \u001b[39m=\u001b[39m \u001b[39mself\u001b[39m\u001b[39m.\u001b[39m_position \u001b[39m+\u001b[39m \u001b[39mself\u001b[39m\u001b[39m.\u001b[39m_orient \u001b[39m*\u001b[39m distance\n\u001b[1;32m-> 1606\u001b[0m \u001b[39mself\u001b[39;49m\u001b[39m.\u001b[39;49m_goto(ende)\n",
      "File \u001b[1;32mC:\\Program Files\\WindowsApps\\PythonSoftwareFoundation.Python.3.11_3.11.752.0_x64__qbz5n2kfra8p0\\Lib\\turtle.py:3175\u001b[0m, in \u001b[0;36mRawTurtle._goto\u001b[1;34m(self, end)\u001b[0m\n\u001b[0;32m   3167\u001b[0m go_modes \u001b[39m=\u001b[39m ( \u001b[39mself\u001b[39m\u001b[39m.\u001b[39m_drawing,\n\u001b[0;32m   3168\u001b[0m              \u001b[39mself\u001b[39m\u001b[39m.\u001b[39m_pencolor,\n\u001b[0;32m   3169\u001b[0m              \u001b[39mself\u001b[39m\u001b[39m.\u001b[39m_pensize,\n\u001b[0;32m   3170\u001b[0m              \u001b[39misinstance\u001b[39m(\u001b[39mself\u001b[39m\u001b[39m.\u001b[39m_fillpath, \u001b[39mlist\u001b[39m))\n\u001b[0;32m   3171\u001b[0m screen \u001b[39m=\u001b[39m \u001b[39mself\u001b[39m\u001b[39m.\u001b[39mscreen\n\u001b[0;32m   3172\u001b[0m undo_entry \u001b[39m=\u001b[39m (\u001b[39m\"\u001b[39m\u001b[39mgo\u001b[39m\u001b[39m\"\u001b[39m, \u001b[39mself\u001b[39m\u001b[39m.\u001b[39m_position, end, go_modes,\n\u001b[0;32m   3173\u001b[0m               (\u001b[39mself\u001b[39m\u001b[39m.\u001b[39mcurrentLineItem,\n\u001b[0;32m   3174\u001b[0m               \u001b[39mself\u001b[39m\u001b[39m.\u001b[39mcurrentLine[:],\n\u001b[1;32m-> 3175\u001b[0m               screen\u001b[39m.\u001b[39;49m_pointlist(\u001b[39mself\u001b[39;49m\u001b[39m.\u001b[39;49mcurrentLineItem),\n\u001b[0;32m   3176\u001b[0m               \u001b[39mself\u001b[39m\u001b[39m.\u001b[39mitems[:])\n\u001b[0;32m   3177\u001b[0m               )\n\u001b[0;32m   3178\u001b[0m \u001b[39mif\u001b[39;00m \u001b[39mself\u001b[39m\u001b[39m.\u001b[39mundobuffer:\n\u001b[0;32m   3179\u001b[0m     \u001b[39mself\u001b[39m\u001b[39m.\u001b[39mundobuffer\u001b[39m.\u001b[39mpush(undo_entry)\n",
      "File \u001b[1;32mC:\\Program Files\\WindowsApps\\PythonSoftwareFoundation.Python.3.11_3.11.752.0_x64__qbz5n2kfra8p0\\Lib\\turtle.py:754\u001b[0m, in \u001b[0;36mTurtleScreenBase._pointlist\u001b[1;34m(self, item)\u001b[0m\n\u001b[0;32m    746\u001b[0m \u001b[39mdef\u001b[39;00m \u001b[39m_pointlist\u001b[39m(\u001b[39mself\u001b[39m, item):\n\u001b[0;32m    747\u001b[0m \u001b[39m    \u001b[39m\u001b[39m\"\"\"returns list of coordinate-pairs of points of item\u001b[39;00m\n\u001b[0;32m    748\u001b[0m \u001b[39m    Example (for insiders):\u001b[39;00m\n\u001b[0;32m    749\u001b[0m \u001b[39m    >>> from turtle import *\u001b[39;00m\n\u001b[1;32m   (...)\u001b[0m\n\u001b[0;32m    752\u001b[0m \u001b[39m    (9.9999999999999982, 0.0)]\u001b[39;00m\n\u001b[0;32m    753\u001b[0m \u001b[39m    >>> \"\"\"\u001b[39;00m\n\u001b[1;32m--> 754\u001b[0m     cl \u001b[39m=\u001b[39m \u001b[39mself\u001b[39;49m\u001b[39m.\u001b[39;49mcv\u001b[39m.\u001b[39;49mcoords(item)\n\u001b[0;32m    755\u001b[0m     pl \u001b[39m=\u001b[39m [(cl[i], \u001b[39m-\u001b[39mcl[i\u001b[39m+\u001b[39m\u001b[39m1\u001b[39m]) \u001b[39mfor\u001b[39;00m i \u001b[39min\u001b[39;00m \u001b[39mrange\u001b[39m(\u001b[39m0\u001b[39m, \u001b[39mlen\u001b[39m(cl), \u001b[39m2\u001b[39m)]\n\u001b[0;32m    756\u001b[0m     \u001b[39mreturn\u001b[39;00m  pl\n",
      "File \u001b[1;32m<string>:1\u001b[0m, in \u001b[0;36mcoords\u001b[1;34m(self, *args, **kw)\u001b[0m\n",
      "File \u001b[1;32mC:\\Program Files\\WindowsApps\\PythonSoftwareFoundation.Python.3.11_3.11.752.0_x64__qbz5n2kfra8p0\\Lib\\tkinter\\__init__.py:2822\u001b[0m, in \u001b[0;36mCanvas.coords\u001b[1;34m(self, *args)\u001b[0m\n\u001b[0;32m   2818\u001b[0m \u001b[39m\u001b[39m\u001b[39m\"\"\"Return a list of coordinates for the item given in ARGS.\"\"\"\u001b[39;00m\n\u001b[0;32m   2819\u001b[0m \u001b[39m# XXX Should use _flatten on args\u001b[39;00m\n\u001b[0;32m   2820\u001b[0m \u001b[39mreturn\u001b[39;00m [\u001b[39mself\u001b[39m\u001b[39m.\u001b[39mtk\u001b[39m.\u001b[39mgetdouble(x) \u001b[39mfor\u001b[39;00m x \u001b[39min\u001b[39;00m\n\u001b[0;32m   2821\u001b[0m                    \u001b[39mself\u001b[39m\u001b[39m.\u001b[39mtk\u001b[39m.\u001b[39msplitlist(\n\u001b[1;32m-> 2822\u001b[0m            \u001b[39mself\u001b[39;49m\u001b[39m.\u001b[39;49mtk\u001b[39m.\u001b[39;49mcall((\u001b[39mself\u001b[39;49m\u001b[39m.\u001b[39;49m_w, \u001b[39m'\u001b[39;49m\u001b[39mcoords\u001b[39;49m\u001b[39m'\u001b[39;49m) \u001b[39m+\u001b[39;49m args))]\n",
      "\u001b[1;31mTclError\u001b[0m: invalid command name \".!canvas\""
     ]
    }
   ],
   "source": [
    "def draw_spiral(t, n, length=3, a=0.1, b=0.0002):\n",
    "    \"\"\"Draws an Archimedian spiral starting at the origin.\n",
    "    Args:\n",
    "      n: how many line segments to draw\n",
    "      length: how long each segment is\n",
    "      a: how loose the initial spiral starts out (larger is looser)\n",
    "      b: how loosly coiled the spiral is (larger is looser)\n",
    "    http://en.wikipedia.org/wiki/Spiral\n",
    "    \"\"\"\n",
    "    theta = 0.0\n",
    "\n",
    "    for i in range(n):\n",
    "        t.fd(length)\n",
    "        dtheta = 1 / (a + b * theta)\n",
    "\n",
    "        t.lt(dtheta)\n",
    "        theta += dtheta\n",
    "\n",
    "\n",
    "draw_spiral(bob, n=1000)\n"
   ]
  },
  {
   "attachments": {},
   "cell_type": "markdown",
   "metadata": {},
   "source": [
    "# Chapter 5"
   ]
  },
  {
   "attachments": {},
   "cell_type": "markdown",
   "metadata": {},
   "source": [
    "### Exercise 5-1"
   ]
  },
  {
   "attachments": {},
   "cell_type": "markdown",
   "metadata": {},
   "source": [
    "The time module provides a function, also named time, that returns the current\n",
    "Greenwich Mean Time in “the epoch”, which is an arbitrary time used as a reference\n",
    "point. On UNIX systems, the epoch is 1 January 1970.\n",
    "Write a script that reads the current time and converts it to a time of day in hours,\n",
    "minutes, and seconds, plus the number of days since the epoch."
   ]
  },
  {
   "cell_type": "code",
   "execution_count": null,
   "metadata": {},
   "outputs": [],
   "source": [
    "import time\n",
    "curr_time = time.time()\n",
    "\n",
    "def convert_time(curr_time):\n",
    "    time_zone = -1*60*60*3\n",
    "    curr_time += time_zone\n",
    "\n",
    "    seconds = curr_time % 60\n",
    "    curr_time -= seconds\n",
    "\n",
    "    minutes = curr_time % (60*60) // 60\n",
    "    curr_time -= minutes * 60\n",
    "    \n",
    "    hours = curr_time % (60*60*24) // (60*60)\n",
    "    curr_time -= hours * 60 * 60\n",
    "    \n",
    "    days = curr_time // (60*60*24)\n",
    "    print(int(hours), int(minutes), int(seconds), int(days))\n",
    "\n",
    "convert_time(curr_time)"
   ]
  },
  {
   "attachments": {},
   "cell_type": "markdown",
   "metadata": {},
   "source": [
    "### Exercise 5-2"
   ]
  },
  {
   "attachments": {},
   "cell_type": "markdown",
   "metadata": {},
   "source": [
    "Fermat’s Last Theorem says that there are no positive integers a, b, and c such that\n",
    "a^n + b^n = c^n\n",
    "for any values of n greater than 2.\n",
    "\n",
    "1. Write a function named check_fermat that takes four parameters—a, b, c and n\n",
    "—and checks to see if Fermat’s theorem holds. If n is greater than 2 and\n",
    "a^n + b^n = c^n\n",
    "the program should print, “Holy smokes, Fermat was wrong!” Otherwise the pro‐\n",
    "gram should print, “No, that doesn’t work.”\n"
   ]
  },
  {
   "cell_type": "code",
   "execution_count": 31,
   "metadata": {},
   "outputs": [
    {
     "name": "stdout",
     "output_type": "stream",
     "text": [
      "No, that doesn’t work.\n"
     ]
    }
   ],
   "source": [
    "def check_fermat(a, b, c, n):\n",
    "    if a**n + b**n == c**n and n > 2:\n",
    "        print(\"Holy smokes, Fermat was wrong!\")\n",
    "    else:\n",
    "        print(\"No, that doesn't work.\")\n",
    "\n",
    "def prompot_user_input():\n",
    "    a = int(input(\"a =\"))\n",
    "    b = int(input(\"b =\"))\n",
    "    c = int(input(\"c =\"))\n",
    "    n = int(input(\"n =\"))\n",
    "\n",
    "    check_fermat(a, b, c, n)\n",
    "\n",
    "prompot_user_input()"
   ]
  },
  {
   "attachments": {},
   "cell_type": "markdown",
   "metadata": {},
   "source": [
    "### Exercise 5-3"
   ]
  },
  {
   "attachments": {},
   "cell_type": "markdown",
   "metadata": {},
   "source": [
    "If you are given three sticks, you may or may not be able to arrange them in a trian‐\n",
    "gle. For example, if one of the sticks is 12 inches long and the other two are one inch\n",
    "long, you will not be able to get the short sticks to meet in the middle. For any three\n",
    "lengths, there is a simple test to see if it is possible to form a triangle:\n",
    "If any of the three lengths is greater than the sum of the other two, then you cannot\n",
    "form a triangle. Otherwise, you can. (If the sum of two lengths equals the third, they\n",
    "form what is called a “degenerate” triangle.)\n",
    "1. Write a function named is_triangle that takes three integers as arguments, and\n",
    "that prints either “Yes” or “No”, depending on whether you can or cannot form a\n",
    "triangle from sticks with the given lengths."
   ]
  },
  {
   "cell_type": "code",
   "execution_count": 33,
   "metadata": {},
   "outputs": [
    {
     "name": "stdout",
     "output_type": "stream",
     "text": [
      "Yes\n",
      "No\n"
     ]
    }
   ],
   "source": [
    "def is_triangle(a, b, c):\n",
    "    if (a <= (b + c)) or (b <= (a + c)) or (c <= (a + b)):\n",
    "        return \"Yes\"\n",
    "    else:\n",
    "        return \"No\"\n",
    "\n",
    "is_triangle(1, 1, 1)\n",
    "is_triangle(5, 5, 11)"
   ]
  },
  {
   "attachments": {},
   "cell_type": "markdown",
   "metadata": {},
   "source": [
    "### Exercise 5-4"
   ]
  },
  {
   "attachments": {},
   "cell_type": "markdown",
   "metadata": {},
   "source": [
    "What is the output of the following program? Draw a stack diagram that shows the\n",
    "state of the program when it prints the result."
   ]
  },
  {
   "cell_type": "code",
   "execution_count": 5,
   "metadata": {},
   "outputs": [
    {
     "name": "stdout",
     "output_type": "stream",
     "text": [
      "6\n"
     ]
    }
   ],
   "source": [
    "def recurse(n, s):\n",
    "    if n == 0:\n",
    "        print(s)\n",
    "    else:\n",
    "        recurse(n-1, n+s)\n",
    "        \n",
    "recurse(3, 0)"
   ]
  },
  {
   "cell_type": "markdown",
   "metadata": {},
   "source": [
    "1. What would happen if you called this function like this: recurse(-1, 0)?"
   ]
  },
  {
   "cell_type": "code",
   "execution_count": 2,
   "metadata": {},
   "outputs": [
    {
     "ename": "RecursionError",
     "evalue": "maximum recursion depth exceeded",
     "output_type": "error",
     "traceback": [
      "\u001b[1;31m---------------------------------------------------------------------------\u001b[0m",
      "\u001b[1;31mRecursionError\u001b[0m                            Traceback (most recent call last)",
      "Cell \u001b[1;32mIn[2], line 1\u001b[0m\n\u001b[1;32m----> 1\u001b[0m recurse(\u001b[39m-\u001b[39;49m\u001b[39m1\u001b[39;49m, \u001b[39m0\u001b[39;49m)\n",
      "Cell \u001b[1;32mIn[1], line 5\u001b[0m, in \u001b[0;36mrecurse\u001b[1;34m(n, s)\u001b[0m\n\u001b[0;32m      3\u001b[0m     \u001b[39mprint\u001b[39m(s)\n\u001b[0;32m      4\u001b[0m \u001b[39melse\u001b[39;00m:\n\u001b[1;32m----> 5\u001b[0m     recurse(n\u001b[39m-\u001b[39;49m\u001b[39m1\u001b[39;49m, n\u001b[39m+\u001b[39;49ms)\n",
      "Cell \u001b[1;32mIn[1], line 5\u001b[0m, in \u001b[0;36mrecurse\u001b[1;34m(n, s)\u001b[0m\n\u001b[0;32m      3\u001b[0m     \u001b[39mprint\u001b[39m(s)\n\u001b[0;32m      4\u001b[0m \u001b[39melse\u001b[39;00m:\n\u001b[1;32m----> 5\u001b[0m     recurse(n\u001b[39m-\u001b[39;49m\u001b[39m1\u001b[39;49m, n\u001b[39m+\u001b[39;49ms)\n",
      "    \u001b[1;31m[... skipping similar frames: recurse at line 5 (2971 times)]\u001b[0m\n",
      "Cell \u001b[1;32mIn[1], line 5\u001b[0m, in \u001b[0;36mrecurse\u001b[1;34m(n, s)\u001b[0m\n\u001b[0;32m      3\u001b[0m     \u001b[39mprint\u001b[39m(s)\n\u001b[0;32m      4\u001b[0m \u001b[39melse\u001b[39;00m:\n\u001b[1;32m----> 5\u001b[0m     recurse(n\u001b[39m-\u001b[39;49m\u001b[39m1\u001b[39;49m, n\u001b[39m+\u001b[39;49ms)\n",
      "\u001b[1;31mRecursionError\u001b[0m: maximum recursion depth exceeded"
     ]
    }
   ],
   "source": [
    "recurse(-1, 0)"
   ]
  },
  {
   "attachments": {},
   "cell_type": "markdown",
   "metadata": {},
   "source": [
    "2. Write a docstring that explains everything someone would need to know in order\n",
    "to use this function (and nothing else)."
   ]
  },
  {
   "cell_type": "code",
   "execution_count": null,
   "metadata": {},
   "outputs": [],
   "source": [
    "def recurse(n:int, s:int) -> None:\n",
    "    '''\n",
    "    Recursively calculates the sum of the first n natural numbers, plus s, and prints the result.\n",
    "\n",
    "    Args:\n",
    "    - n: The number of terms to be added, a positive integer.\n",
    "    - s: The initial value to be sumed, an integer.\n",
    "\n",
    "    Returns:\n",
    "    Nothing. The function prints the result.\n",
    "    '''\n",
    "    if n == 0:\n",
    "        print(s)\n",
    "    else:\n",
    "        recurse(n-1, n+s)"
   ]
  },
  {
   "attachments": {},
   "cell_type": "markdown",
   "metadata": {},
   "source": [
    "### Exercise 5-5"
   ]
  },
  {
   "cell_type": "markdown",
   "metadata": {},
   "source": [
    "Read the following function and see if you can figure out what it does (see the examples in Chapter 4). Then run it and see if you got it right."
   ]
  },
  {
   "cell_type": "code",
   "execution_count": 5,
   "metadata": {},
   "outputs": [
    {
     "ename": "",
     "evalue": "",
     "output_type": "error",
     "traceback": [
      "\u001b[1;31mThe Kernel crashed while executing code in the current cell or a previous cell. \n",
      "\u001b[1;31mPlease review the code in the cell(s) to identify a possible cause of the failure. \n",
      "\u001b[1;31mClick <a href='https://aka.ms/vscodeJupyterKernelCrash'>here</a> for more info. \n",
      "\u001b[1;31mView Jupyter <a href='command:jupyter.viewOutput'>log</a> for further details."
     ]
    }
   ],
   "source": [
    "def draw(t, length, n):\n",
    "    if n == 0:\n",
    "        return\n",
    "    angle = 50\n",
    "    t.fd(length*n)\n",
    "    t.lt(angle)\n",
    "    draw(t, length, n-1)\n",
    "    t.rt(2*angle)\n",
    "    draw(t, length, n-1)\n",
    "    t.lt(angle)\n",
    "    t.bk(length*n)\n",
    "    \n",
    "import turtle\n",
    "bob = turtle.Turtle()\n",
    "draw(bob, 10, 5)"
   ]
  },
  {
   "cell_type": "markdown",
   "metadata": {},
   "source": [
    " ![Figure 5-2. A Koch curve.](../img/koch_curve.png)\n",
    " \n",
    "  Figure 5-2. A Koch curve."
   ]
  },
  {
   "cell_type": "markdown",
   "metadata": {},
   "source": [
    "### Exercise 5-6"
   ]
  },
  {
   "cell_type": "markdown",
   "metadata": {},
   "source": [
    "The Koch curve is a fractal that looks something like Figure 5-2. To draw a Koch curve with length x, all you have to do is:\n",
    " 1. Draw a Koch curve with length x/3.\n",
    " 2. Turn left 60 degrees.\n",
    " 3. Draw a Koch curve with length x/3.\n",
    " 4. Turn right 120 degrees.\n",
    " 5. Draw a Koch curve with length x/3.\n",
    " 6. Turn left 60 degrees.\n",
    " 7. Draw a Koch curve with length x/3."
   ]
  },
  {
   "cell_type": "markdown",
   "metadata": {},
   "source": [
    " The exception is if x is less than 3: in that case, you can just draw a straight line with length x.\n",
    "1. Write a function called koch that takes a turtle and a length as parameters, and that uses the turtle to draw a Koch curve with the given length."
   ]
  },
  {
   "cell_type": "code",
   "execution_count": 1,
   "metadata": {},
   "outputs": [],
   "source": [
    "def koch(t, length):\n",
    "    if length < 3:\n",
    "        t.fd(length)\n",
    "        return\n",
    "    koch(t, length/3)\n",
    "    t.lt(60)\n",
    "    koch(t, length/3)\n",
    "    t.rt(120)\n",
    "    koch(t, length/3)\n",
    "    t.lt(60)\n",
    "    koch(t, length/3)"
   ]
  },
  {
   "cell_type": "markdown",
   "metadata": {},
   "source": [
    " 2. Write a function called snowflake that draws three Koch curves to make the out line of a snowflake. Solution: http://thinkpython2.com/code/koch.py."
   ]
  },
  {
   "cell_type": "code",
   "execution_count": 2,
   "metadata": {},
   "outputs": [],
   "source": [
    "def snowflake(t, length):\n",
    "    for i in range(3):\n",
    "        koch(t, length)\n",
    "        t.rt(120)"
   ]
  },
  {
   "cell_type": "markdown",
   "metadata": {},
   "source": [
    " 3. The Koch curve can be generalized in several ways. See http://en.wikipedia.org/wiki/Koch_snowflake for examples and implement your favorite."
   ]
  },
  {
   "cell_type": "code",
   "execution_count": null,
   "metadata": {},
   "outputs": [
    {
     "ename": "",
     "evalue": "",
     "output_type": "error",
     "traceback": [
      "\u001b[1;31mThe Kernel crashed while executing code in the current cell or a previous cell. \n",
      "\u001b[1;31mPlease review the code in the cell(s) to identify a possible cause of the failure. \n",
      "\u001b[1;31mClick <a href='https://aka.ms/vscodeJupyterKernelCrash'>here</a> for more info. \n",
      "\u001b[1;31mView Jupyter <a href='command:jupyter.viewOutput'>log</a> for further details."
     ]
    }
   ],
   "source": [
    "def koch_snowflake(t, length):\n",
    "    for i in range(3):\n",
    "        koch(t, length)\n",
    "        t.rt(120)\n",
    "\n",
    "import turtle\n",
    "bob = turtle.Turtle()\n",
    "bob.pu()\n",
    "bob.goto(-150, 90)\n",
    "bob.pd()\n",
    "\n",
    "koch_snowflake(bob, 300)"
   ]
  },
  {
   "attachments": {},
   "cell_type": "markdown",
   "metadata": {},
   "source": [
    "# Chapter 6"
   ]
  },
  {
   "cell_type": "code",
   "execution_count": 3,
   "metadata": {},
   "outputs": [
    {
     "data": {
      "text/plain": [
       "5.0"
      ]
     },
     "execution_count": 3,
     "metadata": {},
     "output_type": "execute_result"
    }
   ],
   "source": [
    "# scaffolding hypotenuse\n",
    "\n",
    "def hypotenuse(a, b):\n",
    "    dsquared = a**2 + b**2\n",
    "    result = dsquared ** 0.5\n",
    "    return result\n",
    "\n",
    "hypotenuse(3, 4)"
   ]
  },
  {
   "cell_type": "code",
   "execution_count": 4,
   "metadata": {},
   "outputs": [
    {
     "data": {
      "text/plain": [
       "True"
      ]
     },
     "execution_count": 4,
     "metadata": {},
     "output_type": "execute_result"
    }
   ],
   "source": [
    "# is_between\n",
    "\n",
    "def is_between(x, y, z):\n",
    "    return x <= y <= z\n",
    "is_between(1, 2, 3)"
   ]
  },
  {
   "cell_type": "code",
   "execution_count": 10,
   "metadata": {},
   "outputs": [
    {
     "name": "stdout",
     "output_type": "stream",
     "text": [
      "Factorial is only defined for natural.\n"
     ]
    }
   ],
   "source": [
    "# factorial\n",
    "\n",
    "def factorial (n:int) -> int:\n",
    "    if not isinstance(n, int) or n < 0:\n",
    "        print('Factorial is only defined for natural.')\n",
    "        return None\n",
    "    elif n == 0:\n",
    "        return 1\n",
    "    else:\n",
    "        return n * factorial(n-1)\n",
    "\n",
    "factorial(-4)"
   ]
  },
  {
   "cell_type": "code",
   "execution_count": 14,
   "metadata": {},
   "outputs": [
    {
     "name": "stdout",
     "output_type": "stream",
     "text": [
      "                 factorial 4\n",
      "             factorial 3\n",
      "         factorial 2\n",
      "     factorial 1\n",
      " factorial 0\n",
      " returning 1\n",
      "     returning 1\n",
      "         returning 2\n",
      "             returning 6\n",
      "                 returning 24\n"
     ]
    },
    {
     "data": {
      "text/plain": [
       "24"
      ]
     },
     "execution_count": 14,
     "metadata": {},
     "output_type": "execute_result"
    }
   ],
   "source": [
    "def factorial(n):\n",
    "    space = ' ' * (4 * n)\n",
    "    print(space, 'factorial', n)\n",
    "    if n == 0:\n",
    "        print(space, 'returning 1')\n",
    "        return 1\n",
    "    else:\n",
    "        recurse = factorial(n-1)\n",
    "        result = n * recurse\n",
    "        print(space, 'returning', result)\n",
    "        return result\n",
    "\n",
    "factorial(4)"
   ]
  },
  {
   "cell_type": "code",
   "execution_count": 5,
   "metadata": {},
   "outputs": [
    {
     "data": {
      "text/plain": [
       "3"
      ]
     },
     "execution_count": 5,
     "metadata": {},
     "output_type": "execute_result"
    }
   ],
   "source": [
    "# fibonacci\n",
    "\n",
    "def fibonacci (n):\n",
    "    if n == 0:\n",
    "        return 0\n",
    "    elif n == 1:\n",
    "        return 1\n",
    "    else:\n",
    "        return fibonacci(n-1) + fibonacci(n-2)\n",
    "\n",
    "fibonacci(4)"
   ]
  },
  {
   "attachments": {},
   "cell_type": "markdown",
   "metadata": {},
   "source": [
    "### Exercise 6-1"
   ]
  },
  {
   "cell_type": "markdown",
   "metadata": {},
   "source": [
    " Draw a stack diagram for the following program. What does the program print?"
   ]
  },
  {
   "cell_type": "code",
   "execution_count": 17,
   "metadata": {},
   "outputs": [
    {
     "name": "stdout",
     "output_type": "stream",
     "text": [
      "9 90\n",
      "8100\n"
     ]
    }
   ],
   "source": [
    "def b(z):\n",
    "    prod = a(z, z)\n",
    "    print(z, prod)\n",
    "    return prod\n",
    "    \n",
    "def a(x, y):\n",
    "    x = x + 1\n",
    "    return x * y\n",
    "\n",
    "def c(x, y, z):\n",
    "    total = x + y + z\n",
    "    square = b(total)**2\n",
    "    return square\n",
    "\n",
    "x = 1\n",
    "y = x + 1\n",
    "print(c(x, y+3, x+y))"
   ]
  },
  {
   "attachments": {},
   "cell_type": "markdown",
   "metadata": {},
   "source": [
    "### Exercise 6-2\n",
    "The Ackermann function, \n",
    "         {n+1             if m > 0\n",
    "A(m,n) = {A(m-1,1)        if m > 0 and n = 0\n",
    "         {A(m-1,A(m,n-1)) if m > 0 and n > 0\n",
    "\n",
    "See http://en.wikipedia.org/wiki/Ackermann_function. Write a function named ack that evaluates the Ackermann function. Use your function to evaluate ack(3, 4), which should be 125. What happens for larger values of m and n?\n",
    " \n",
    "olution: http://thinkpython2.com/code/ackermann.py."
   ]
  },
  {
   "cell_type": "code",
   "execution_count": 2,
   "metadata": {},
   "outputs": [
    {
     "data": {
      "text/plain": [
       "125"
      ]
     },
     "execution_count": 2,
     "metadata": {},
     "output_type": "execute_result"
    }
   ],
   "source": [
    "def ack(m, n):\n",
    "    if m == 0:\n",
    "        return n + 1\n",
    "    if n == 0:\n",
    "        return ack(m-1, 1)\n",
    "    return ack(m-1, ack(m, n-1))\n",
    "\n",
    "ack(3, 4)"
   ]
  },
  {
   "attachments": {},
   "cell_type": "markdown",
   "metadata": {},
   "source": [
    "### Exercise 6-3\n",
    "A palindrome is a word that is spelled the same backward and forward, like “noon” and “redivider”. Recursively, a word is a palindrome if the first and last letters are the same and the middle is a palindrome.\n",
    "\n",
    "The following are functions that take a string argument and return the first, last, and middle letters:"
   ]
  },
  {
   "cell_type": "code",
   "execution_count": 3,
   "metadata": {},
   "outputs": [
    {
     "data": {
      "text/plain": [
       "''"
      ]
     },
     "execution_count": 3,
     "metadata": {},
     "output_type": "execute_result"
    }
   ],
   "source": [
    "def first(word):\n",
    "    return word[0]\n",
    "\n",
    "def last(word):\n",
    "    return word[-1]\n",
    "\n",
    "def middle(word):\n",
    "    return word[1:-1]\n",
    "\n",
    "middle('ab')\n",
    "middle('a')\n",
    "middle('')"
   ]
  },
  {
   "cell_type": "markdown",
   "metadata": {},
   "source": [
    "We’ll see how they work in Chapter 8.\n",
    " \n",
    "1. Type these functions into a file named palindrome.py and test them out. What happens if you call middle with a string with two letters? One letter? What about the empty string, which is written '' and contains no letters?\n",
    " \n",
    "2. Write a function called is_palindrome that takes a string argument and returns True if it is a palindrome and False otherwise. Remember that you can use the built-in function len to check the length of a string.\n",
    " \n",
    "Solution: http://thinkpython2.com/code/palindrome_soln.py."
   ]
  },
  {
   "cell_type": "code",
   "execution_count": 5,
   "metadata": {},
   "outputs": [
    {
     "data": {
      "text/plain": [
       "True"
      ]
     },
     "execution_count": 5,
     "metadata": {},
     "output_type": "execute_result"
    }
   ],
   "source": [
    "def is_palindrome(word):\n",
    "    if len(word) <= 1:\n",
    "        return True\n",
    "    if first(word) != last(word):\n",
    "        return False\n",
    "    return is_palindrome(middle(word))\n",
    "\n",
    "is_palindrome('redivider')"
   ]
  },
  {
   "attachments": {},
   "cell_type": "markdown",
   "metadata": {},
   "source": [
    "### Exercise 6-4"
   ]
  },
  {
   "cell_type": "markdown",
   "metadata": {},
   "source": [
    "A number, a, is a power of b if it is divisible by b and a/b is a power of b. Write a function called is_power that takes parameters a and b and returns True if a is a power of b. Note: you will have to think about the base case."
   ]
  },
  {
   "cell_type": "code",
   "execution_count": 6,
   "metadata": {},
   "outputs": [
    {
     "data": {
      "text/plain": [
       "True"
      ]
     },
     "execution_count": 6,
     "metadata": {},
     "output_type": "execute_result"
    }
   ],
   "source": [
    "def is_power(a, b):\n",
    "    if a == b:\n",
    "        return True\n",
    "    if a % b != 0:\n",
    "        return False\n",
    "    return is_power(a/b, b)\n",
    "\n",
    "is_power(8, 2)"
   ]
  },
  {
   "attachments": {},
   "cell_type": "markdown",
   "metadata": {},
   "source": [
    "### Exercise 6-5\n",
    "\n",
    "The greatest common divisor (GCD) of a and b is the largest number that divides both of them with no remainder.\n",
    " \n",
    "One way to find the GCD of two numbers is based on the observation that if r is the remainder when a is divided by b, then gcd(a,b) = gcd(b,r) . As a base case, we canuse gcd(a,0) = a.\n",
    " \n",
    "Write a function called gcd that takes parameters a and b and returns their greatest common divisor."
   ]
  },
  {
   "cell_type": "code",
   "execution_count": 7,
   "metadata": {},
   "outputs": [
    {
     "data": {
      "text/plain": [
       "2"
      ]
     },
     "execution_count": 7,
     "metadata": {},
     "output_type": "execute_result"
    }
   ],
   "source": [
    "def gcd(a, b):\n",
    "    if b == 0:\n",
    "        return a\n",
    "    r = a % b\n",
    "    return gcd(b, r)\n",
    "\n",
    "gcd(8, 2)"
   ]
  },
  {
   "attachments": {},
   "cell_type": "markdown",
   "metadata": {},
   "source": [
    "# Chapter 7"
   ]
  },
  {
   "cell_type": "code",
   "execution_count": 4,
   "metadata": {},
   "outputs": [
    {
     "name": "stdout",
     "output_type": "stream",
     "text": [
      "5\n",
      "4\n",
      "3\n",
      "2\n",
      "1\n",
      "blastoff!\n"
     ]
    }
   ],
   "source": [
    "# use interation instead of recursion\n",
    "def print_n(n):\n",
    "    while n >= 1:\n",
    "        print(n)\n",
    "        n -= 1\n",
    "    print(\"blastoff!\")\n",
    "\n",
    "print_n(5)"
   ]
  },
  {
   "attachments": {},
   "cell_type": "markdown",
   "metadata": {},
   "source": [
    "### Exercise 7-1\n",
    "Copy the loop from “Square Roots” on page 79 and encapsulate it in a function called mysqrt that takes a as a parameter, chooses a reasonable value of x and returns an estimate of the square root of a.\n",
    " \n",
    "To test it, write a function named test_square_root that prints a table like this:\n",
    "\n",
    "a   mysqrt(a)     math.sqrt(a)  diff\n",
    "\n",
    "-   ---------     ------------  ---\n",
    "\n",
    "1.0 1.0           1.0           0.0\n",
    "\n",
    "2.0 1.41421356237 1.41421356237 2.22044604925e-16\n",
    "\n",
    "3.0 1.73205080757 1.73205080757 0.0\n",
    "\n",
    "4.0 2.0           2.0           0.0\n",
    "\n",
    "5.0 2.2360679775  2.2360679775  0.0\n",
    "\n",
    "6.0 2.44948974278 2.44948974278 0.0\n",
    "\n",
    "7.0 2.64575131106 2.64575131106 0.0\n",
    "\n",
    "8.0 2.82842712475 2.82842712475 4.4408920985e-16\n",
    "\n",
    "9.0 3.0           3.0           0.0\n",
    " \n",
    "The first column is a number, a; the second column is the square root of a computed with mysqrt; the third column is the square root computed by math.sqrt; the fourth column is the absolute value of the difference between the two estimates."
   ]
  },
  {
   "cell_type": "code",
   "execution_count": 1,
   "metadata": {},
   "outputs": [
    {
     "data": {
      "text/plain": [
       "2.0000000929222947"
      ]
     },
     "execution_count": 1,
     "metadata": {},
     "output_type": "execute_result"
    }
   ],
   "source": [
    "def mysqrt(a):\n",
    "    x = a\n",
    "    while True:\n",
    "        y = (x + a/x) / 2\n",
    "        if abs(y-x) < 0.0000001:\n",
    "            break\n",
    "        x = y\n",
    "    return x\n",
    "\n",
    "mysqrt(4)"
   ]
  },
  {
   "attachments": {},
   "cell_type": "markdown",
   "metadata": {},
   "source": [
    "### Exercise 7-2\n",
    "The built-in function eval takes a string and evaluates it using the Python interpreter. For example:"
   ]
  },
  {
   "cell_type": "code",
   "execution_count": 3,
   "metadata": {},
   "outputs": [
    {
     "data": {
      "text/plain": [
       "float"
      ]
     },
     "execution_count": 3,
     "metadata": {},
     "output_type": "execute_result"
    }
   ],
   "source": [
    "eval('1 + 2 * 3')\n",
    "import math\n",
    "eval('math.sqrt(5)')\n",
    "eval('type(math.pi)')"
   ]
  },
  {
   "cell_type": "markdown",
   "metadata": {},
   "source": [
    "Write a function called eval_loop that iteratively prompts the user, takes the resulting input and evaluates it using eval, and prints the result.\n",
    " \n",
    "It should continue until the user enters 'done', and then return the value of the last expression it evaluated."
   ]
  },
  {
   "cell_type": "code",
   "execution_count": 5,
   "metadata": {},
   "outputs": [],
   "source": [
    "def eval_loop():\n",
    "    while True:\n",
    "        result = input('Enter a math expression: ')\n",
    "        if result == 'done':\n",
    "            break\n",
    "        print(eval(result))"
   ]
  },
  {
   "cell_type": "markdown",
   "metadata": {},
   "source": [
    "### Exercise 7-3\n",
    "\n",
    "The mathematician Srinivasa Ramanujan found an infinite series that can be used to generate a numerical approximation of 1/π:\n",
    " 1\n",
    " π = 2 2\n",
    " 9801\n",
    " ∑\n",
    " k=0\n",
    " ∞\n",
    " 4k !1103+26390k\n",
    " k! 43964k\n",
    " \n",
    "Write a function called estimate_pi that uses this formula to compute and return an estimate of π. It should use a while loop to compute terms of the summation until the  last term is smaller than 1e-15  (which is Python notation for 10−15). You can check the result by comparing it to math.pi.\n",
    " \n",
    "Solution: http://thinkpython2.com/code/pi.py."
   ]
  },
  {
   "cell_type": "code",
   "execution_count": 4,
   "metadata": {},
   "outputs": [
    {
     "data": {
      "text/plain": [
       "3.141592653589793"
      ]
     },
     "execution_count": 4,
     "metadata": {},
     "output_type": "execute_result"
    }
   ],
   "source": [
    "def estimate_pi():\n",
    "    total = 0\n",
    "    k = 0\n",
    "    factor = 2 * math.sqrt(2) / 9801\n",
    "    while True:\n",
    "        num = math.factorial(4*k) * (1103 + 26390*k)\n",
    "        den = math.factorial(k)**4 * 396**(4*k)\n",
    "        term = factor * num / den\n",
    "        total += term\n",
    "        \n",
    "        if abs(term) < 1e-15:\n",
    "            break\n",
    "        k += 1\n",
    "    return 1 / total\n",
    "\n",
    "estimate_pi()"
   ]
  },
  {
   "attachments": {},
   "cell_type": "markdown",
   "metadata": {},
   "source": [
    "# Chapter 8"
   ]
  },
  {
   "cell_type": "code",
   "execution_count": 1,
   "metadata": {},
   "outputs": [
    {
     "name": "stdout",
     "output_type": "stream",
     "text": [
      "o\n",
      "l\n",
      "l\n",
      "e\n",
      "h\n"
     ]
    }
   ],
   "source": [
    "# as an exercisem, write a function that takes a string as an argument and displays the letters backward, one per line.\n",
    "\n",
    "def reverse_string(s):\n",
    "    for i in range(len(s)-1, -1, -1):\n",
    "        print(s[i])\n",
    "\n",
    "reverse_string('hello')"
   ]
  },
  {
   "attachments": {},
   "cell_type": "markdown",
   "metadata": {},
   "source": [
    "### Exercise 8-1\n",
    "\n",
    "Read the documentation of the string methods at http://docs.python.org/3/library/stdtypes.html#string-methods. You might want to experiment with some of them to make sure you understand how they work. strip and replace are particularly useful.\n",
    " \n",
    "The documentation uses a syntax that might be confusing. For example, in find(sub[, start[, end]]), the brackets indicate optional arguments. So sub is required, but start is optional, and if you include start, then end is optional."
   ]
  },
  {
   "attachments": {},
   "cell_type": "markdown",
   "metadata": {},
   "source": [
    "### Exercise 8-2\n",
    "\n",
    "There is a string method called count that is similar to the function in “Looping and Counting” on page 89. Read the documentation of this method and write an invocation that counts the number of a’s in 'banana'."
   ]
  },
  {
   "cell_type": "code",
   "execution_count": 7,
   "metadata": {},
   "outputs": [
    {
     "data": {
      "text/plain": [
       "3"
      ]
     },
     "execution_count": 7,
     "metadata": {},
     "output_type": "execute_result"
    }
   ],
   "source": [
    "word = 'banana'\n",
    "word.count('a')"
   ]
  },
  {
   "attachments": {},
   "cell_type": "markdown",
   "metadata": {},
   "source": [
    "### Exercise 8-3\n",
    "\n",
    "A string slice can take a third index that specifies the “step size”; that is, the number of spaces between successive characters. A step size of 2 means every other character; 3 means every third, etc."
   ]
  },
  {
   "cell_type": "code",
   "execution_count": 5,
   "metadata": {},
   "outputs": [
    {
     "data": {
      "text/plain": [
       "'bnn'"
      ]
     },
     "execution_count": 5,
     "metadata": {},
     "output_type": "execute_result"
    }
   ],
   "source": [
    "fruit = 'banana'\n",
    "fruit[0:5:2]"
   ]
  },
  {
   "cell_type": "markdown",
   "metadata": {},
   "source": [
    "A step size of -1 goes through the word backwards, so the slice [::-1] generates a reversed string.\n",
    " \n",
    "Use this idiom to write a one-line version of is_palindrome from Exercise 6-3"
   ]
  },
  {
   "cell_type": "code",
   "execution_count": 8,
   "metadata": {},
   "outputs": [
    {
     "data": {
      "text/plain": [
       "True"
      ]
     },
     "execution_count": 8,
     "metadata": {},
     "output_type": "execute_result"
    }
   ],
   "source": [
    "def is_palindrome(word):\n",
    "    return word == word[::-1]\n",
    "\n",
    "is_palindrome('redivider')"
   ]
  },
  {
   "attachments": {},
   "cell_type": "markdown",
   "metadata": {},
   "source": [
    "### Exercise 8-4\n",
    "\n",
    "The following functions are all intended to check whether a string contains any lowercase letters, but at least some of them are wrong. For each function, describe what the function actually does (assuming that the parameter is a string)."
   ]
  },
  {
   "cell_type": "code",
   "execution_count": null,
   "metadata": {},
   "outputs": [],
   "source": [
    "def any_lowercase1(s):\n",
    "    for c in s:\n",
    "        if c.islower():\n",
    "            return True\n",
    "        else:\n",
    "            return False\n",
    "\n",
    "def any_lowercase2(s):\n",
    "    for c in s:\n",
    "        if 'c'.islower():\n",
    "            return 'True'\n",
    "        else:\n",
    "            return 'False'\n",
    "\n",
    "def any_lowercase3(s):\n",
    "    for c in s:\n",
    "        flag = c.islower()\n",
    "    return flag\n",
    "\n",
    "def any_lowercase4(s):\n",
    "    flag = False\n",
    "    for c in s:\n",
    "        flag = flag or c.islower()\n",
    "    return flag\n",
    "\n",
    "def any_lowercase5(s):\n",
    "    for c in s:\n",
    "        if not c.islower():\n",
    "            return False\n",
    "    return True"
   ]
  },
  {
   "attachments": {},
   "cell_type": "markdown",
   "metadata": {},
   "source": [
    "### Exercise 8-5\n",
    "\n",
    "A Caesar cypher is a weak form of encryption that involves “rotating” each letter by a fixed number of places. To rotate a letter means to shift it through the alphabet, wrapping around to the beginning if necessary, so ‘A’ rotated by 3 is ‘D’ and ‘Z’ rotated by 1 is ‘A’.\n",
    " \n",
    "To rotate a word, rotate each letter by the same amount. For example, “cheer” rotated by 7 is “jolly” and “melon” rotated by -10 is “cubed”. In the movie 2001: A Space Odys sey, the ship computer is called HAL, which is IBM rotated by -1\n",
    "\n",
    "Write a function called rotate_word that takes a string and an integer as parameters, and returns a new string that contains the letters from the original string rotated by the given amount.\n",
    " \n",
    "You might want to use the built-in function ord, which converts a character to a numeric code, and chr, which converts numeric codes to characters. Letters of the alphabet are encoded in alphabetical order, so for example:"
   ]
  },
  {
   "cell_type": "code",
   "execution_count": 6,
   "metadata": {},
   "outputs": [
    {
     "data": {
      "text/plain": [
       "2"
      ]
     },
     "execution_count": 6,
     "metadata": {},
     "output_type": "execute_result"
    }
   ],
   "source": [
    "ord('c') - ord('a')"
   ]
  },
  {
   "cell_type": "markdown",
   "metadata": {},
   "source": [
    "Because 'c' is the two-eth letter of the alphabet. But beware: the numeric codes for uppercase letters are different.\n",
    " \n",
    "Potentially offensive jokes on the Internet are sometimes encoded in ROT13, which is a Caesar cypher with rotation 13. If you are not easily offended find and decode some of them.\n",
    " \n",
    "Solution: http://thinkpython2.com/code/rotate.py."
   ]
  },
  {
   "cell_type": "code",
   "execution_count": 9,
   "metadata": {},
   "outputs": [
    {
     "data": {
      "text/plain": [
       "'jolly'"
      ]
     },
     "execution_count": 9,
     "metadata": {},
     "output_type": "execute_result"
    }
   ],
   "source": [
    "def rotate_word(word, n):\n",
    "    result = ''\n",
    "    for c in word:\n",
    "        if c.isalpha():\n",
    "            start = ord('A') if c.isupper() else ord('a')\n",
    "            result += chr(start + (ord(c) - start + n) % 26)\n",
    "        else:\n",
    "            result += c\n",
    "    return result\n",
    "\n",
    "rotate_word('cheer', 7)"
   ]
  },
  {
   "attachments": {},
   "cell_type": "markdown",
   "metadata": {},
   "source": [
    "# Chapter 9"
   ]
  },
  {
   "attachments": {},
   "cell_type": "markdown",
   "metadata": {},
   "source": [
    "### Exercise 9-1"
   ]
  },
  {
   "attachments": {},
   "cell_type": "markdown",
   "metadata": {},
   "source": [
    "### Exercise 9-2"
   ]
  },
  {
   "attachments": {},
   "cell_type": "markdown",
   "metadata": {},
   "source": [
    "### Exercise 9-3"
   ]
  },
  {
   "attachments": {},
   "cell_type": "markdown",
   "metadata": {},
   "source": [
    "### Exercise 9-4"
   ]
  },
  {
   "attachments": {},
   "cell_type": "markdown",
   "metadata": {},
   "source": [
    "### Exercise 9-5"
   ]
  },
  {
   "attachments": {},
   "cell_type": "markdown",
   "metadata": {},
   "source": [
    "### Exercise 9-6"
   ]
  },
  {
   "attachments": {},
   "cell_type": "markdown",
   "metadata": {},
   "source": [
    "### Exercise 9-7"
   ]
  },
  {
   "attachments": {},
   "cell_type": "markdown",
   "metadata": {},
   "source": [
    "### Exercise 9-8"
   ]
  },
  {
   "attachments": {},
   "cell_type": "markdown",
   "metadata": {},
   "source": [
    "### Exercise 9-9"
   ]
  },
  {
   "attachments": {},
   "cell_type": "markdown",
   "metadata": {},
   "source": [
    "# Chapter 10"
   ]
  },
  {
   "attachments": {},
   "cell_type": "markdown",
   "metadata": {},
   "source": [
    "### Exercise 10-1"
   ]
  },
  {
   "attachments": {},
   "cell_type": "markdown",
   "metadata": {},
   "source": [
    "### Exercise 10-2"
   ]
  },
  {
   "attachments": {},
   "cell_type": "markdown",
   "metadata": {},
   "source": [
    "### Exercise 10-3"
   ]
  },
  {
   "attachments": {},
   "cell_type": "markdown",
   "metadata": {},
   "source": [
    "### Exercise 10-4"
   ]
  },
  {
   "attachments": {},
   "cell_type": "markdown",
   "metadata": {},
   "source": [
    "### Exercise 10-5"
   ]
  },
  {
   "attachments": {},
   "cell_type": "markdown",
   "metadata": {},
   "source": [
    "### Exercise 10-6"
   ]
  },
  {
   "attachments": {},
   "cell_type": "markdown",
   "metadata": {},
   "source": [
    "### Exercise 10-7"
   ]
  },
  {
   "attachments": {},
   "cell_type": "markdown",
   "metadata": {},
   "source": [
    "### Exercise 10-8"
   ]
  },
  {
   "attachments": {},
   "cell_type": "markdown",
   "metadata": {},
   "source": [
    "### Exercise 10-9"
   ]
  },
  {
   "attachments": {},
   "cell_type": "markdown",
   "metadata": {},
   "source": [
    "### Exercise 10-10"
   ]
  },
  {
   "attachments": {},
   "cell_type": "markdown",
   "metadata": {},
   "source": [
    "### Exercise 10-11"
   ]
  },
  {
   "attachments": {},
   "cell_type": "markdown",
   "metadata": {},
   "source": [
    "### Exercise 10-12"
   ]
  },
  {
   "attachments": {},
   "cell_type": "markdown",
   "metadata": {},
   "source": [
    "# Chapter 11"
   ]
  },
  {
   "attachments": {},
   "cell_type": "markdown",
   "metadata": {},
   "source": [
    "### Exercise 11-1"
   ]
  },
  {
   "attachments": {},
   "cell_type": "markdown",
   "metadata": {},
   "source": [
    "### Exercise 11-2"
   ]
  },
  {
   "attachments": {},
   "cell_type": "markdown",
   "metadata": {},
   "source": [
    "### Exercise 11-3"
   ]
  },
  {
   "attachments": {},
   "cell_type": "markdown",
   "metadata": {},
   "source": [
    "### Exercise 11-4"
   ]
  },
  {
   "attachments": {},
   "cell_type": "markdown",
   "metadata": {},
   "source": [
    "### Exercise 11-5"
   ]
  },
  {
   "attachments": {},
   "cell_type": "markdown",
   "metadata": {},
   "source": [
    "### Exercise 11-6"
   ]
  },
  {
   "attachments": {},
   "cell_type": "markdown",
   "metadata": {},
   "source": [
    "# Chapter 12"
   ]
  },
  {
   "attachments": {},
   "cell_type": "markdown",
   "metadata": {},
   "source": [
    "### Exercise 12-1"
   ]
  },
  {
   "attachments": {},
   "cell_type": "markdown",
   "metadata": {},
   "source": [
    "### Exercise 12-2"
   ]
  },
  {
   "attachments": {},
   "cell_type": "markdown",
   "metadata": {},
   "source": [
    "### Exercise 12-3"
   ]
  },
  {
   "attachments": {},
   "cell_type": "markdown",
   "metadata": {},
   "source": [
    "### Exercise 12-4"
   ]
  },
  {
   "attachments": {},
   "cell_type": "markdown",
   "metadata": {},
   "source": [
    "# Chapter 13"
   ]
  },
  {
   "attachments": {},
   "cell_type": "markdown",
   "metadata": {},
   "source": [
    "### Exercise 13-1"
   ]
  },
  {
   "attachments": {},
   "cell_type": "markdown",
   "metadata": {},
   "source": [
    "### Exercise 13-2"
   ]
  },
  {
   "attachments": {},
   "cell_type": "markdown",
   "metadata": {},
   "source": [
    "### Exercise 13-3"
   ]
  },
  {
   "attachments": {},
   "cell_type": "markdown",
   "metadata": {},
   "source": [
    "### Exercise 13-4"
   ]
  },
  {
   "attachments": {},
   "cell_type": "markdown",
   "metadata": {},
   "source": [
    "### Exercise 13-5"
   ]
  },
  {
   "attachments": {},
   "cell_type": "markdown",
   "metadata": {},
   "source": [
    "### Exercise 13-6"
   ]
  },
  {
   "attachments": {},
   "cell_type": "markdown",
   "metadata": {},
   "source": [
    "### Exercise 13-7"
   ]
  },
  {
   "attachments": {},
   "cell_type": "markdown",
   "metadata": {},
   "source": [
    "### Exercise 13-8"
   ]
  },
  {
   "attachments": {},
   "cell_type": "markdown",
   "metadata": {},
   "source": [
    "### Exercise 13-9"
   ]
  },
  {
   "attachments": {},
   "cell_type": "markdown",
   "metadata": {},
   "source": [
    "# Chapter 14"
   ]
  },
  {
   "attachments": {},
   "cell_type": "markdown",
   "metadata": {},
   "source": [
    "### Exercise 14-1"
   ]
  },
  {
   "attachments": {},
   "cell_type": "markdown",
   "metadata": {},
   "source": [
    "### Exercise 14-2"
   ]
  },
  {
   "attachments": {},
   "cell_type": "markdown",
   "metadata": {},
   "source": [
    "### Exercise 14-3"
   ]
  },
  {
   "attachments": {},
   "cell_type": "markdown",
   "metadata": {},
   "source": [
    "# Chapter 15"
   ]
  },
  {
   "attachments": {},
   "cell_type": "markdown",
   "metadata": {},
   "source": [
    "### Exercise 15-1"
   ]
  },
  {
   "attachments": {},
   "cell_type": "markdown",
   "metadata": {},
   "source": [
    "### Exercise 15-2"
   ]
  },
  {
   "attachments": {},
   "cell_type": "markdown",
   "metadata": {},
   "source": [
    "# Chapter 16"
   ]
  },
  {
   "attachments": {},
   "cell_type": "markdown",
   "metadata": {},
   "source": [
    "### Exercise 16-1"
   ]
  },
  {
   "attachments": {},
   "cell_type": "markdown",
   "metadata": {},
   "source": [
    "### Exercise 16-2"
   ]
  },
  {
   "attachments": {},
   "cell_type": "markdown",
   "metadata": {},
   "source": [
    "# Chapter 17"
   ]
  },
  {
   "attachments": {},
   "cell_type": "markdown",
   "metadata": {},
   "source": [
    "### Exercise 17-1"
   ]
  },
  {
   "attachments": {},
   "cell_type": "markdown",
   "metadata": {},
   "source": [
    "### Exercise 17-2"
   ]
  },
  {
   "attachments": {},
   "cell_type": "markdown",
   "metadata": {},
   "source": [
    "# Chapter 18"
   ]
  },
  {
   "attachments": {},
   "cell_type": "markdown",
   "metadata": {},
   "source": [
    "### Exercise 18-1"
   ]
  },
  {
   "attachments": {},
   "cell_type": "markdown",
   "metadata": {},
   "source": [
    "### Exercise 18-2"
   ]
  },
  {
   "attachments": {},
   "cell_type": "markdown",
   "metadata": {},
   "source": [
    "# Chapter 19"
   ]
  },
  {
   "attachments": {},
   "cell_type": "markdown",
   "metadata": {},
   "source": [
    "### Exercise 19-1"
   ]
  }
 ],
 "metadata": {
  "kernelspec": {
   "display_name": ".venv",
   "language": "python",
   "name": "python3"
  },
  "language_info": {
   "codemirror_mode": {
    "name": "ipython",
    "version": 3
   },
   "file_extension": ".py",
   "mimetype": "text/x-python",
   "name": "python",
   "nbconvert_exporter": "python",
   "pygments_lexer": "ipython3",
   "version": "3.12.6"
  },
  "orig_nbformat": 4
 },
 "nbformat": 4,
 "nbformat_minor": 2
}
